{
 "cells": [
  {
   "cell_type": "markdown",
   "metadata": {
    "id": "-sTsDfIVKsmL"
   },
   "source": [
    "# DAT405 Introduction to Data Science and AI \n",
    "## Assignment 7: Neural Networks using Keras and Tensorflow \n",
    "\n",
    "### Francisco Boudagh\n",
    "### Jakob Engström\n",
    "### 2023 May 17"
   ]
  },
  {
   "cell_type": "markdown",
   "metadata": {
    "id": "rHoSDyYpdh-s"
   },
   "source": [
    "Tensorflow needs to be installed in order to run this code."
   ]
  },
  {
   "cell_type": "code",
   "execution_count": 1,
   "metadata": {
    "id": "02ZYZ-WmdhwH"
   },
   "outputs": [],
   "source": [
    "from __future__ import print_function\n",
    "from keras import utils as np_utils\n",
    "from keras.datasets import mnist\n",
    "from keras.models import Sequential\n",
    "from keras.layers import Dense, Dropout, Flatten\n",
    "from keras.layers import Conv2D, MaxPooling2D\n",
    "from keras import backend as K\n",
    "import tensorflow\n",
    "import tensorflow as tf\n",
    "import keras\n",
    "from keras import regularizers\n",
    "from matplotlib import pyplot as plt\n",
    "import numpy as np"
   ]
  },
  {
   "cell_type": "code",
   "execution_count": 11,
   "metadata": {},
   "outputs": [],
   "source": [
    "# Hyperparameters data-loading and formatting\n",
    "batch_size = 128\n",
    "num_classes = 10\n",
    "epochs = 10\n",
    "\n",
    "img_rows, img_cols = 28, 28\n",
    "\n",
    "(x_train, lbl_train), (x_test, lbl_test) = mnist.load_data()\n",
    "\n",
    "if K.image_data_format() == 'channels_first':\n",
    "    x_train = x_train.reshape(x_train.shape[0], 1, img_rows, img_cols)\n",
    "    x_test = x_test.reshape(x_test.shape[0], 1, img_rows, img_cols)\n",
    "    input_shape = (1, img_rows, img_cols)\n",
    "else:\n",
    "    x_train = x_train.reshape(x_train.shape[0], img_rows, img_cols, 1)\n",
    "    x_test = x_test.reshape(x_test.shape[0], img_rows, img_cols, 1)\n",
    "    input_shape = (img_rows, img_cols, 1)"
   ]
  },
  {
   "cell_type": "markdown",
   "metadata": {
    "id": "-I3g1RrZ0wpI"
   },
   "source": [
    "**Preprocessing**"
   ]
  },
  {
   "cell_type": "code",
   "execution_count": 12,
   "metadata": {},
   "outputs": [],
   "source": [
    "x_train = x_train.astype('float32')\n",
    "x_test = x_test.astype('float32')\n",
    "\n",
    "x_train /= 255\n",
    "x_test /= 255\n",
    "\n",
    "y_train = keras.utils.np_utils.to_categorical(lbl_train, num_classes)\n",
    "y_test = keras.utils.np_utils.to_categorical(lbl_test, num_classes)"
   ]
  },
  {
   "cell_type": "code",
   "execution_count": 13,
   "metadata": {},
   "outputs": [
    {
     "name": "stdout",
     "output_type": "stream",
     "text": [
      "Epoch 1/10\n",
      "469/469 [==============================] - 1s 2ms/step - loss: 0.4800 - accuracy: 0.8653 - val_loss: 0.2592 - val_accuracy: 0.9251\n",
      "Epoch 2/10\n",
      "469/469 [==============================] - 1s 3ms/step - loss: 0.2222 - accuracy: 0.9350 - val_loss: 0.1837 - val_accuracy: 0.9448\n",
      "Epoch 3/10\n",
      "469/469 [==============================] - 1s 3ms/step - loss: 0.1715 - accuracy: 0.9499 - val_loss: 0.1497 - val_accuracy: 0.9565\n",
      "Epoch 4/10\n",
      "469/469 [==============================] - 1s 3ms/step - loss: 0.1413 - accuracy: 0.9583 - val_loss: 0.1368 - val_accuracy: 0.9573\n",
      "Epoch 5/10\n",
      "469/469 [==============================] - 1s 3ms/step - loss: 0.1207 - accuracy: 0.9651 - val_loss: 0.1186 - val_accuracy: 0.9629\n",
      "Epoch 6/10\n",
      "469/469 [==============================] - 1s 3ms/step - loss: 0.1050 - accuracy: 0.9685 - val_loss: 0.1135 - val_accuracy: 0.9630\n",
      "Epoch 7/10\n",
      "469/469 [==============================] - 1s 3ms/step - loss: 0.0929 - accuracy: 0.9726 - val_loss: 0.1054 - val_accuracy: 0.9667\n",
      "Epoch 8/10\n",
      "469/469 [==============================] - 1s 3ms/step - loss: 0.0834 - accuracy: 0.9755 - val_loss: 0.0940 - val_accuracy: 0.9703\n",
      "Epoch 9/10\n",
      "469/469 [==============================] - 1s 3ms/step - loss: 0.0750 - accuracy: 0.9773 - val_loss: 0.1026 - val_accuracy: 0.9678\n",
      "Epoch 10/10\n",
      "469/469 [==============================] - 1s 3ms/step - loss: 0.0679 - accuracy: 0.9798 - val_loss: 0.0846 - val_accuracy: 0.9732\n",
      "Test loss: 0.08456577360630035, Test accuracy 0.9732000231742859\n"
     ]
    }
   ],
   "source": [
    "## Define model and layers\n",
    "model = Sequential()\n",
    "\n",
    "model.add(Flatten())\n",
    "model.add(Dense(64, activation = 'relu'))\n",
    "model.add(Dense(64, activation = 'relu'))\n",
    "model.add(Dense(num_classes, activation='softmax'))\n",
    "\n",
    "\n",
    "model.compile(loss=keras.losses.categorical_crossentropy,\n",
    "               optimizer=tensorflow.keras.optimizers.SGD(learning_rate = 0.1),\n",
    "        metrics=['accuracy'],)\n",
    "\n",
    "fit_info = model.fit(x_train, y_train,\n",
    "           batch_size=batch_size,\n",
    "           epochs=epochs,\n",
    "           verbose=1,\n",
    "           validation_data=(x_test, y_test))\n",
    "score = model.evaluate(x_test, y_test, verbose=0)\n",
    "print('Test loss: {}, Test accuracy {}'.format(score[0], score[1]))"
   ]
  },
  {
   "cell_type": "markdown",
   "metadata": {},
   "source": [
    "--------------\n",
    "## 1 Preprocessing"
   ]
  },
  {
   "cell_type": "markdown",
   "metadata": {},
   "source": [
    "### 1.1 Explain the prep-rocessing in the code above\n",
    "The MNIST data is downloaded, so now we have the handwritten digit images and their labels. The data is then separated into training and testing sets. We then convert the data to float32 (a 32 bits long data type which is faster than 64) so we can normalize it later by dividing with 255. Now every pixel will have a value between 0 and 1. Later we encode the labels of training and testing sets (lbl_train and lbl_test) to \"one-hot\" vectors. This means to vectors that are num_classes-long and have elements with value 0 everywhere except for the class index position which have a value of 1. So for example the digit 5 would be encoded as [0 0 0 0 0 1 0 0 0 0]. In this case, a vector that is 10-long and element number 6 (since element number 1 is for digit 0) have the value 1 and rest is 0."
   ]
  },
  {
   "cell_type": "markdown",
   "metadata": {},
   "source": [
    "---------------------\n",
    "## 2 Network model, training, and changing hyper-parameters"
   ]
  },
  {
   "cell_type": "markdown",
   "metadata": {},
   "source": [
    "### 2.1 Network properties\n",
    "\n",
    "\n",
    "The network has 4 layers: 1 input, 2 hidden, and 1 output layer.\n",
    "\n",
    "The input layer receives images of size 28x28 pixels (784 neurons) and passes the input to the first hidden layer, which has 64 neurons. It then continue to the second hidden layer, also with 64 neurons, and finally to the output layer, which has 10 neurons beacuse the output could be 10 possible digits, 0-9.\n",
    "\n",
    "The two hidden layers are using activation function ReLU which is appropriate since it introduces non linearity to the model. This allows the model to capture complex relationships between the input and output. The output function is using softmax as activation function which is commonly used for multi class classification problems. Softmax generates a probability distributed over the classes, and it chooses the class with highest probability as output.\n",
    "\n",
    "Total neurons = 28\\*28 + 64 + 64 + 10 = 922.\n",
    "\n",
    "Total parameters = \n",
    "\n",
    "28\\*28\\*64 + 64 = 50 240,\n",
    "\n",
    "64\\*64 + 64 = 4 160,\n",
    "\n",
    "64\\*10 + 10 = 650,\n",
    "\n",
    "50 240 + 4 160 + 650 = 55 050"
   ]
  },
  {
   "cell_type": "markdown",
   "metadata": {},
   "source": [
    "### 2.2 Loss function\n",
    "\n",
    "The loss function used is categorical cross-entropy, which measures the difference between the true label and the predicted probability calculated by the model.\n",
    "\n",
    "The mathematical expression for the loss function is:\n",
    "$Loss = -\\sum_{i=1}^{N}y_{true}\\cdot \\mathrm{log}({y_{pred}})$\n",
    "\n",
    "Where $N$ represents the number of classes, which is 10 in our case. $y_{true}$ is the true label for a class, and $y_{pred}$ is the predicted label for the same class.\n",
    "\n",
    "A small loss from the function indicates that the predicted number is close to the true label of the input value. Therefore, we aim for as small losses as possible. Loss = 0 means that the model is predicting the exact value.\n",
    "\n",
    "The cross-entropy loss function is suitable since it is a standard loss function for multi class tasks, which our task involves. When the loss from the function is small, the model assigns higher probability to the correct class and lower probability to the incorrect classes, thereby improving the model's accuracy."
   ]
  },
  {
   "cell_type": "markdown",
   "metadata": {},
   "source": [
    "### 2.3 Training for 10 epochs"
   ]
  },
  {
   "cell_type": "code",
   "execution_count": 22,
   "metadata": {
    "scrolled": false
   },
   "outputs": [
    {
     "name": "stdout",
     "output_type": "stream",
     "text": [
      "Epoch 1/10\n",
      "469/469 [==============================] - 1s 2ms/step - loss: 0.4926 - accuracy: 0.8578 - val_loss: 0.2605 - val_accuracy: 0.9247\n",
      "Epoch 2/10\n",
      "469/469 [==============================] - 1s 2ms/step - loss: 0.2277 - accuracy: 0.9336 - val_loss: 0.1901 - val_accuracy: 0.9421\n",
      "Epoch 3/10\n",
      "469/469 [==============================] - 1s 2ms/step - loss: 0.1774 - accuracy: 0.9479 - val_loss: 0.1522 - val_accuracy: 0.9537\n",
      "Epoch 4/10\n",
      "469/469 [==============================] - 1s 2ms/step - loss: 0.1453 - accuracy: 0.9576 - val_loss: 0.1333 - val_accuracy: 0.9606\n",
      "Epoch 5/10\n",
      "469/469 [==============================] - 1s 3ms/step - loss: 0.1255 - accuracy: 0.9633 - val_loss: 0.1234 - val_accuracy: 0.9604\n",
      "Epoch 6/10\n",
      "469/469 [==============================] - 1s 3ms/step - loss: 0.1092 - accuracy: 0.9679 - val_loss: 0.1119 - val_accuracy: 0.9665\n",
      "Epoch 7/10\n",
      "469/469 [==============================] - 1s 3ms/step - loss: 0.0979 - accuracy: 0.9709 - val_loss: 0.1098 - val_accuracy: 0.9655\n",
      "Epoch 8/10\n",
      "469/469 [==============================] - 1s 3ms/step - loss: 0.0871 - accuracy: 0.9741 - val_loss: 0.0977 - val_accuracy: 0.9688\n",
      "Epoch 9/10\n",
      "469/469 [==============================] - 1s 3ms/step - loss: 0.0785 - accuracy: 0.9770 - val_loss: 0.0944 - val_accuracy: 0.9690\n",
      "Epoch 10/10\n",
      "469/469 [==============================] - 1s 3ms/step - loss: 0.0711 - accuracy: 0.9791 - val_loss: 0.0943 - val_accuracy: 0.9703\n",
      "Test loss: 0.09425701946020126, Test accuracy: 0.970300018787384\n"
     ]
    },
    {
     "data": {
      "image/png": "[encoded data removed]",
      "text/plain": [
       "<Figure size 640x480 with 1 Axes>"
      ]
     },
     "metadata": {},
     "output_type": "display_data"
    }
   ],
   "source": [
    "# Define model and layers\n",
    "model = Sequential()\n",
    "\n",
    "model.add(Flatten())\n",
    "model.add(Dense(64, activation='relu'))\n",
    "model.add(Dense(64, activation='relu'))\n",
    "model.add(Dense(num_classes, activation='softmax'))\n",
    "\n",
    "model.compile(loss=keras.losses.categorical_crossentropy,\n",
    "              optimizer=tensorflow.keras.optimizers.SGD(learning_rate=0.1),\n",
    "              metrics=['accuracy'])\n",
    "\n",
    "fit_info = model.fit(x_train, y_train,\n",
    "                     batch_size=batch_size,\n",
    "                     epochs=epochs,\n",
    "                     verbose=1,\n",
    "                     validation_data=(x_test, y_test))\n",
    "score = model.evaluate(x_test, y_test, verbose=0)\n",
    "print('Test loss: {}, Test accuracy: {}'.format(score[0], score[1]))\n",
    "\n",
    "# plotting accuracies\n",
    "plt.plot(fit_info.history['accuracy'])\n",
    "plt.plot(fit_info.history['val_accuracy'])\n",
    "plt.title('Model Accuracy')\n",
    "plt.legend((['Training accuracy', 'Validation accuracy']), loc='upper left')\n",
    "plt.xlabel('Epochs')\n",
    "plt.ylabel('Accuracy')\n",
    "plt.show()"
   ]
  },
  {
   "cell_type": "markdown",
   "metadata": {},
   "source": [
    "### 2.4 More neurons and epochs with L2 regularization"
   ]
  },
  {
   "cell_type": "code",
   "execution_count": 6,
   "metadata": {
    "scrolled": false
   },
   "outputs": [
    {
     "data": {
      "image/png": "[encoded data removed]",
      "text/plain": [
       "<Figure size 640x480 with 1 Axes>"
      ]
     },
     "metadata": {},
     "output_type": "display_data"
    }
   ],
   "source": [
    "# Hyperparameters and data loading/formatting\n",
    "batch_size = 128\n",
    "num_classes = 10\n",
    "epochs = 40\n",
    "img_rows, img_cols = 28, 28\n",
    "\n",
    "(x_train, lbl_train), (x_test, lbl_test) = mnist.load_data()\n",
    "\n",
    "if K.image_data_format() == 'channels_first':\n",
    "    x_train = x_train.reshape(x_train.shape[0], 1, img_rows, img_cols)\n",
    "    x_test = x_test.reshape(x_test.shape[0], 1, img_rows, img_cols)\n",
    "    input_shape = (1, img_rows, img_cols)\n",
    "else:\n",
    "    x_train = x_train.reshape(x_train.shape[0], img_rows, img_cols, 1)\n",
    "    x_test = x_test.reshape(x_test.shape[0], img_rows, img_cols, 1)\n",
    "    input_shape = (img_rows, img_cols, 1)\n",
    "\n",
    "x_train = x_train.astype('float32')\n",
    "x_test = x_test.astype('float32')\n",
    "\n",
    "x_train /= 255\n",
    "x_test /= 255\n",
    "\n",
    "y_train = keras.utils.to_categorical(lbl_train, num_classes)\n",
    "y_test = keras.utils.to_categorical(lbl_test, num_classes)\n",
    "\n",
    "# 5 regularization factors from 0.000001 to 0.001 with equal distance\n",
    "regularization_factors = [0.000001, 0.00025075, 0.0005005, 0.00075025, 0.001]\n",
    "validation_accuracies = []\n",
    "\n",
    "for k in range(5):\n",
    "    replicate_accuracies = []\n",
    "    for _ in range(3):   # 3 replicates per regularization\n",
    "        model = Sequential()\n",
    "        model.add(Flatten())\n",
    "        model.add(Dense(500, activation='relu', kernel_regularizer=regularizers.l2(regularization_factors[k])))\n",
    "        model.add(Dense(300, activation='relu', kernel_regularizer=regularizers.l2(regularization_factors[k])))\n",
    "        model.add(Dense(num_classes, activation='softmax'))\n",
    "\n",
    "        model.compile(loss=keras.losses.categorical_crossentropy,\n",
    "                      optimizer=tf.keras.optimizers.SGD(learning_rate=0.1),\n",
    "                      metrics=['accuracy'])\n",
    "\n",
    "        fit_info = model.fit(x_train, y_train,\n",
    "                             batch_size=batch_size,\n",
    "                             epochs=epochs,\n",
    "                             verbose=0,\n",
    "                             validation_data=(x_test, y_test))\n",
    "\n",
    "        replicate_accuracies.append(fit_info.history['val_accuracy'][-1])\n",
    "\n",
    "    validation_accuracies.append(np.mean(replicate_accuracies))\n",
    "\n",
    "# plot\n",
    "plt.errorbar(regularization_factors, validation_accuracies, yerr=np.std(replicate_accuracies))\n",
    "plt.xlabel('Regularization factor')\n",
    "plt.ylabel('Validation accuracy')\n",
    "plt.title('Validation accuracy with L2 regularization')\n",
    "plt.show()"
   ]
  },
  {
   "cell_type": "markdown",
   "metadata": {},
   "source": [
    "We are a bit below the optimal claimed accuracy (98.47%). The difference could depend on having different number of epochs, layers, neurons and learning rate."
   ]
  },
  {
   "cell_type": "markdown",
   "metadata": {},
   "source": [
    "## 3 Convolutional layers"
   ]
  },
  {
   "cell_type": "markdown",
   "metadata": {},
   "source": [
    "### 3.1 Design a model that makes use of at least one convolutional layer"
   ]
  },
  {
   "cell_type": "code",
   "execution_count": 7,
   "metadata": {
    "scrolled": false
   },
   "outputs": [
    {
     "name": "stdout",
     "output_type": "stream",
     "text": [
      "Epoch 1/40\n",
      "469/469 [==============================] - 16s 34ms/step - loss: 0.2135 - accuracy: 0.9402 - val_loss: 0.0870 - val_accuracy: 0.9735\n",
      "Epoch 2/40\n",
      "469/469 [==============================] - 16s 34ms/step - loss: 0.0655 - accuracy: 0.9811 - val_loss: 0.0568 - val_accuracy: 0.9803\n",
      "Epoch 3/40\n",
      "469/469 [==============================] - 16s 34ms/step - loss: 0.0455 - accuracy: 0.9862 - val_loss: 0.0528 - val_accuracy: 0.9824\n",
      "Epoch 4/40\n",
      "469/469 [==============================] - 16s 34ms/step - loss: 0.0322 - accuracy: 0.9903 - val_loss: 0.0435 - val_accuracy: 0.9856\n",
      "Epoch 5/40\n",
      "469/469 [==============================] - 16s 34ms/step - loss: 0.0247 - accuracy: 0.9925 - val_loss: 0.0515 - val_accuracy: 0.9829\n",
      "Epoch 6/40\n",
      "469/469 [==============================] - 16s 35ms/step - loss: 0.0188 - accuracy: 0.9944 - val_loss: 0.0416 - val_accuracy: 0.9864\n",
      "Epoch 7/40\n",
      "469/469 [==============================] - 18s 39ms/step - loss: 0.0149 - accuracy: 0.9954 - val_loss: 0.0453 - val_accuracy: 0.9856\n",
      "Epoch 8/40\n",
      "469/469 [==============================] - 16s 35ms/step - loss: 0.0100 - accuracy: 0.9971 - val_loss: 0.0459 - val_accuracy: 0.9845\n",
      "Epoch 9/40\n",
      "469/469 [==============================] - 16s 35ms/step - loss: 0.0077 - accuracy: 0.9979 - val_loss: 0.0504 - val_accuracy: 0.9859\n",
      "Epoch 10/40\n",
      "469/469 [==============================] - 16s 35ms/step - loss: 0.0071 - accuracy: 0.9978 - val_loss: 0.0495 - val_accuracy: 0.9851\n",
      "Epoch 11/40\n",
      "469/469 [==============================] - 16s 34ms/step - loss: 0.0050 - accuracy: 0.9987 - val_loss: 0.0529 - val_accuracy: 0.9848\n",
      "Epoch 12/40\n",
      "469/469 [==============================] - 16s 35ms/step - loss: 0.0061 - accuracy: 0.9979 - val_loss: 0.0594 - val_accuracy: 0.9840\n",
      "Epoch 13/40\n",
      "469/469 [==============================] - 16s 35ms/step - loss: 0.0037 - accuracy: 0.9989 - val_loss: 0.0585 - val_accuracy: 0.9852\n",
      "Epoch 14/40\n",
      "469/469 [==============================] - 16s 34ms/step - loss: 0.0037 - accuracy: 0.9990 - val_loss: 0.0578 - val_accuracy: 0.9855\n",
      "Epoch 15/40\n",
      "469/469 [==============================] - 16s 34ms/step - loss: 0.0032 - accuracy: 0.9990 - val_loss: 0.0606 - val_accuracy: 0.9841\n",
      "Epoch 16/40\n",
      "469/469 [==============================] - 16s 34ms/step - loss: 0.0048 - accuracy: 0.9985 - val_loss: 0.0574 - val_accuracy: 0.9862\n",
      "Epoch 17/40\n",
      "469/469 [==============================] - 16s 34ms/step - loss: 0.0019 - accuracy: 0.9995 - val_loss: 0.0531 - val_accuracy: 0.9882\n",
      "Epoch 18/40\n",
      "469/469 [==============================] - 16s 34ms/step - loss: 0.0023 - accuracy: 0.9993 - val_loss: 0.0666 - val_accuracy: 0.9853\n",
      "Epoch 19/40\n",
      "469/469 [==============================] - 16s 34ms/step - loss: 0.0043 - accuracy: 0.9985 - val_loss: 0.0654 - val_accuracy: 0.9850\n",
      "Epoch 20/40\n",
      "469/469 [==============================] - 16s 34ms/step - loss: 0.0012 - accuracy: 0.9998 - val_loss: 0.0557 - val_accuracy: 0.9873\n",
      "Epoch 21/40\n",
      "469/469 [==============================] - 16s 34ms/step - loss: 1.9053e-04 - accuracy: 1.0000 - val_loss: 0.0541 - val_accuracy: 0.9875\n",
      "Epoch 22/40\n",
      "469/469 [==============================] - 16s 34ms/step - loss: 6.9647e-05 - accuracy: 1.0000 - val_loss: 0.0566 - val_accuracy: 0.9881\n",
      "Epoch 23/40\n",
      "469/469 [==============================] - 16s 34ms/step - loss: 4.8622e-05 - accuracy: 1.0000 - val_loss: 0.0580 - val_accuracy: 0.9881\n",
      "Epoch 24/40\n",
      "469/469 [==============================] - 17s 36ms/step - loss: 3.6497e-05 - accuracy: 1.0000 - val_loss: 0.0588 - val_accuracy: 0.9882\n",
      "Epoch 25/40\n",
      "469/469 [==============================] - 16s 34ms/step - loss: 2.9927e-05 - accuracy: 1.0000 - val_loss: 0.0602 - val_accuracy: 0.9883\n",
      "Epoch 26/40\n",
      "469/469 [==============================] - 16s 34ms/step - loss: 2.3965e-05 - accuracy: 1.0000 - val_loss: 0.0616 - val_accuracy: 0.9884\n",
      "Epoch 27/40\n",
      "469/469 [==============================] - 16s 34ms/step - loss: 1.9830e-05 - accuracy: 1.0000 - val_loss: 0.0627 - val_accuracy: 0.9879\n",
      "Epoch 28/40\n",
      "469/469 [==============================] - 16s 34ms/step - loss: 1.6361e-05 - accuracy: 1.0000 - val_loss: 0.0644 - val_accuracy: 0.9878\n",
      "Epoch 29/40\n",
      "469/469 [==============================] - 16s 34ms/step - loss: 1.3375e-05 - accuracy: 1.0000 - val_loss: 0.0653 - val_accuracy: 0.9880\n",
      "Epoch 30/40\n",
      "469/469 [==============================] - 16s 34ms/step - loss: 1.3695e-05 - accuracy: 1.0000 - val_loss: 0.0655 - val_accuracy: 0.9882\n",
      "Epoch 31/40\n",
      "469/469 [==============================] - 16s 34ms/step - loss: 1.0138e-05 - accuracy: 1.0000 - val_loss: 0.0674 - val_accuracy: 0.9880\n",
      "Epoch 32/40\n",
      "469/469 [==============================] - 16s 34ms/step - loss: 0.0106 - accuracy: 0.9966 - val_loss: 0.0645 - val_accuracy: 0.9847\n",
      "Epoch 33/40\n",
      "469/469 [==============================] - 16s 34ms/step - loss: 0.0035 - accuracy: 0.9989 - val_loss: 0.0613 - val_accuracy: 0.9866\n",
      "Epoch 34/40\n",
      "469/469 [==============================] - 16s 34ms/step - loss: 8.1391e-04 - accuracy: 0.9998 - val_loss: 0.0593 - val_accuracy: 0.9881\n",
      "Epoch 35/40\n",
      "469/469 [==============================] - 16s 34ms/step - loss: 1.3200e-04 - accuracy: 1.0000 - val_loss: 0.0606 - val_accuracy: 0.9878\n",
      "Epoch 36/40\n",
      "469/469 [==============================] - 16s 34ms/step - loss: 5.4723e-05 - accuracy: 1.0000 - val_loss: 0.0608 - val_accuracy: 0.9883\n",
      "Epoch 37/40\n",
      "469/469 [==============================] - 16s 34ms/step - loss: 3.6677e-05 - accuracy: 1.0000 - val_loss: 0.0622 - val_accuracy: 0.9884\n",
      "Epoch 38/40\n",
      "469/469 [==============================] - 17s 36ms/step - loss: 2.7526e-05 - accuracy: 1.0000 - val_loss: 0.0636 - val_accuracy: 0.9881\n",
      "Epoch 39/40\n",
      "469/469 [==============================] - 16s 35ms/step - loss: 2.1523e-05 - accuracy: 1.0000 - val_loss: 0.0645 - val_accuracy: 0.9884\n",
      "Epoch 40/40\n",
      "469/469 [==============================] - 17s 35ms/step - loss: 1.7297e-05 - accuracy: 1.0000 - val_loss: 0.0661 - val_accuracy: 0.9885\n",
      "Accuracy: 98.85%\n"
     ]
    }
   ],
   "source": [
    "# Hyperparameters and data loading/formatting\n",
    "batch_size = 128\n",
    "num_classes = 10\n",
    "epochs = 40\n",
    "img_rows, img_cols = 28, 28\n",
    "\n",
    "(x_train, lbl_train), (x_test, lbl_test) = mnist.load_data()\n",
    "\n",
    "if K.image_data_format() == 'channels_first':\n",
    "    x_train = x_train.reshape(x_train.shape[0], 1, img_rows, img_cols)\n",
    "    x_test = x_test.reshape(x_test.shape[0], 1, img_rows, img_cols)\n",
    "    input_shape = (1, img_rows, img_cols)\n",
    "else:\n",
    "    x_train = x_train.reshape(x_train.shape[0], img_rows, img_cols, 1)\n",
    "    x_test = x_test.reshape(x_test.shape[0], img_rows, img_cols, 1)\n",
    "    input_shape = (img_rows, img_cols, 1)\n",
    "\n",
    "x_train = x_train.astype('float32')\n",
    "x_test = x_test.astype('float32')\n",
    "\n",
    "x_train /= 255\n",
    "x_test /= 255\n",
    "\n",
    "y_train = lbl_train\n",
    "y_test = lbl_test\n",
    "\n",
    "y_train = keras.utils.to_categorical(y_train, num_classes)\n",
    "y_test = keras.utils.to_categorical(y_test, num_classes)\n",
    "\n",
    "# model with convolutional layer\n",
    "model = Sequential()\n",
    "model.add(Conv2D(32, kernel_size=(3, 3), activation='relu', input_shape=input_shape))\n",
    "model.add(MaxPooling2D(pool_size=(2, 2)))\n",
    "model.add(Flatten())\n",
    "model.add(Dense(128, activation='relu'))\n",
    "model.add(Dense(num_classes, activation='softmax'))\n",
    "\n",
    "model.compile(loss='categorical_crossentropy',\n",
    "              optimizer='adam',\n",
    "              metrics=['accuracy'])\n",
    "\n",
    "model.fit(x_train, y_train,\n",
    "          batch_size=batch_size,\n",
    "          epochs=epochs,\n",
    "          validation_data=(x_test, y_test))\n",
    "\n",
    "# accuracy score\n",
    "loss, accuracy = model.evaluate(x_test, y_test, verbose=0)\n",
    "print(\"Accuracy: {:.2f}%\".format(accuracy * 100))"
   ]
  },
  {
   "cell_type": "markdown",
   "metadata": {
    "scrolled": true
   },
   "source": [
    "When we train the model for 10 epochs we get an accuracy of 98.4%. If we train it for 40 epochs, the accuracy increases to **98.85%**, which is very close to 99%.\n",
    "\n",
    "To reach 99% accuracy, one may need to change some hyperparameters like the learning rate, number of epochs, batch size, or trying differen layers in the model.\n",
    "\n",
    "In this case, we used a convolutional layer because the task required it. We didn't set a specific learning rate ourselves. Instead, we used a optimizer called Adam, which automatically adjusts the learning rate during training. As we have done before, we used again ReLU activation function to capture complexity between the patterns. Loss function categorical cross entropy is suitable since it is a multi class classification task. After some reading, we decided to have MaxPooling2D layer, which basically focuses on the most relevant features and hence reduce overfitting and make the model a bit less computation complex."
   ]
  },
  {
   "cell_type": "markdown",
   "metadata": {},
   "source": [
    "### 3.2 Discuss the differences and potential benefits of using convolutional layers over fully connected ones for the application?"
   ]
  },
  {
   "cell_type": "markdown",
   "metadata": {},
   "source": [
    "**Translation invariance.** This is a very beneficial property of convolutional layers. They can recognize patterns of the digits regardless of the position of the digit in the image. So it doesn't matter where the digits are placed. This is very beneficial since digits can appear at different positions in an image. Fully connected layers do not have this property, hence becoming very sensitive to the digits position in the image.\n",
    "\n",
    "**Spatial informatio.** The convolutional layer preserves the spatial information of the input data. This means that it can recognize advanced patterns by finding relations to other information in the input data. By doing this, the model can understand patterns like edges and corners of the digits and recognize them when predicting. Buut when using fully connected layers, the input is just a vector, this disregard all the spatial relationships.\n",
    "\n",
    "**Overfitting reduction.** We achieved this in our case by using MaxPooling, which reduces the spatial dimensions and hence decreases the risk of overfitting. Therefore, in general, convolutional layers are more robust and do not easily become overfitted.\n",
    "\n",
    "So, in general it is very benefical to use convolutional layers for applications such as digits recognition."
   ]
  }
 ],
 "metadata": {
  "colab": {
   "collapsed_sections": [],
   "name": "Assignment_7_NN.ipynb",
   "provenance": []
  },
  "kernelspec": {
   "display_name": "Python 3 (ipykernel)",
   "language": "python",
   "name": "python3"
  },
  "language_info": {
   "codemirror_mode": {
    "name": "ipython",
    "version": 3
   },
   "file_extension": ".py",
   "mimetype": "text/x-python",
   "name": "python",
   "nbconvert_exporter": "python",
   "pygments_lexer": "ipython3",
   "version": "3.9.13"
  }
 },
 "nbformat": 4,
 "nbformat_minor": 1
}
